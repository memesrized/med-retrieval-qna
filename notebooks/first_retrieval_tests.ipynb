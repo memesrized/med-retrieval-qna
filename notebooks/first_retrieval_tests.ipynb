{
 "cells": [
  {
   "cell_type": "code",
   "execution_count": 2,
   "metadata": {},
   "outputs": [
    {
     "name": "stdout",
     "output_type": "stream",
     "text": [
      "cuda:0\n"
     ]
    }
   ],
   "source": [
    "from typing import Union\n",
    "\n",
    "from transformers import AutoModel, AutoTokenizer\n",
    "import torch\n",
    "from tqdm.auto import tqdm\n",
    "\n",
    "import logging\n",
    "import sys\n",
    "\n",
    "log = logging.getLogger()\n",
    "log.setLevel(logging.INFO)\n",
    "\n",
    "handler = logging.StreamHandler(sys.stdout)\n",
    "handler.setLevel(logging.DEBUG)\n",
    "formatter = logging.Formatter('%(asctime)s - %(name)s - %(levelname)s - %(message)s')\n",
    "handler.setFormatter(formatter)\n",
    "log.addHandler(handler)\n",
    "\n",
    "device = \"cuda:0\" if torch.cuda.is_available() else \"cpu\"\n",
    "print(device)\n"
   ]
  },
  {
   "cell_type": "code",
   "execution_count": 4,
   "metadata": {},
   "outputs": [],
   "source": [
    "class EmbedModel:\n",
    "    def __init__(self, model_name:str, mode:str=\"token\", device:str=\"cpu\") -> None:\n",
    "        self.model = AutoModel.from_pretrained(model_name)\n",
    "        self.tokenizer = AutoTokenizer.from_pretrained(model_name)\n",
    "        self.device = device\n",
    "        self.mode = mode\n",
    "        self.model.to(self.device)\n",
    "    \n",
    "    def __call__(self, text:Union[str, list]):\n",
    "        tokenized = self.tokenizer(text, return_tensors=\"pt\", padding=True, truncation=True, max_length=512).to(device)\n",
    "        with torch.no_grad():\n",
    "            emb = self.model(**tokenized)\n",
    "        pooled = self._pool(emb, tokenized['attention_mask'])\n",
    "        # return pooled\n",
    "        return self._norm(pooled)\n",
    "    \n",
    "    def _norm(self, pooled):\n",
    "        return pooled / torch.linalg.norm(pooled, dim=1, keepdim=True)\n",
    "\n",
    "    def _pool(self, emb, mask=None):\n",
    "        if self.mode==\"token\":\n",
    "            masked = emb['last_hidden_state']*mask.unsqueeze(-1)\n",
    "            return masked.sum(axis=1) / mask.sum(-1, keepdim=True)\n",
    "        elif self.mode==\"pooler\":\n",
    "            return emb['pooler_output']"
   ]
  },
  {
   "cell_type": "code",
   "execution_count": 5,
   "metadata": {},
   "outputs": [
    {
     "name": "stdout",
     "output_type": "stream",
     "text": [
      "tensor(1., device='cuda:0')\n",
      "tensor([[0.6924]], device='cuda:0')\n"
     ]
    }
   ],
   "source": [
    "emb_model = EmbedModel(\"menadsa/S-BioELECTRA\", device=device)\n",
    "\n",
    "# small smoke test\n",
    "a = emb_model(\"text\")\n",
    "print(a.square().sum().sqrt())\n",
    "\n",
    "print(emb_model(\"tumor in the chest\") @ emb_model(\"lungs cancer\").T)"
   ]
  },
  {
   "attachments": {},
   "cell_type": "markdown",
   "metadata": {},
   "source": [
    "### Data loading"
   ]
  },
  {
   "cell_type": "code",
   "execution_count": 152,
   "metadata": {},
   "outputs": [
    {
     "name": "stdout",
     "output_type": "stream",
     "text": [
      "2023-05-27 01:31:26,622 - datasets.builder - WARNING - Using custom data configuration default\n",
      "2023-05-27 01:31:26,632 - datasets.builder - WARNING - Found cached dataset medmcqa (C:/Users/vasec/.cache/huggingface/datasets/medmcqa/default/1.1.0/f2fdfa9ccfbf9d148c0639e6afe3379f3c7e95c4d52d5e68ec1156e5004bd880)\n",
      "Length: 87077\n",
      "2023-05-27 01:31:29,792 - datasets.builder - WARNING - Using custom data configuration AnonymousSub--MedQuAD_47441_Question_Answer_Pairs-5625072dd394af39\n",
      "2023-05-27 01:31:29,795 - datasets.builder - WARNING - Found cached dataset parquet (C:/Users/vasec/.cache/huggingface/datasets/AnonymousSub___parquet/AnonymousSub--MedQuAD_47441_Question_Answer_Pairs-5625072dd394af39/0.0.0/2a3b91fbd88a2c90d1dbbb32b460cf621d31bd5b05b934492fdef7d8d6f236ec)\n",
      "Length: 16407\n"
     ]
    }
   ],
   "source": [
    "from datasets import load_dataset\n",
    "\n",
    "sample_size = 100000\n",
    "seed=1337\n",
    "\n",
    "# dataset 1\n",
    "data = load_dataset(\"medmcqa\", split=\"train\").to_pandas()\n",
    "data = data.dropna()\n",
    "ans_dict = {\n",
    "    0: \"opa\",\n",
    "    1: \"opb\",\n",
    "    2: \"opc\",\n",
    "    3: \"opd\"\n",
    "}\n",
    "data['Q'] = data['question']\n",
    "data['A'] = data.apply(lambda row: row[ans_dict[row[\"cop\"]]]+\". \"+row['exp'], axis=1)\n",
    "data = data[['Q', \"A\"]]\n",
    "print(\"Length:\", len(data))\n",
    "# data[\"text\"] = data[\"question\"] + \"\\n\" + data[\"exp\"]\n",
    "# data = data[data[\"subject_name\"] == \"Medicine\"]\n",
    "data = data.sample(min(len(data), sample_size), random_state=seed)\n",
    "\n",
    "\n",
    "# dataset 2\n",
    "data1 = load_dataset(\"AnonymousSub/MedQuAD_47441_Question_Answer_Pairs\", split=\"train\").to_pandas()\n",
    "data1 = data1.dropna()\n",
    "data1[\"Q\"] = data1[\"Questions\"]\n",
    "data1[\"A\"] = data1[\"Answers\"]\n",
    "data1 = data1[[\"Q\", \"A\"]]\n",
    "print(\"Length:\", len(data1))\n",
    "\n",
    "\n",
    "data1 = data1.sample(min(len(data1), sample_size), random_state=seed)"
   ]
  },
  {
   "attachments": {},
   "cell_type": "markdown",
   "metadata": {},
   "source": [
    "### Retrieval"
   ]
  },
  {
   "cell_type": "code",
   "execution_count": 153,
   "metadata": {},
   "outputs": [],
   "source": [
    "import numpy as np\n",
    "\n",
    "class AnswerDB:\n",
    "    def __init__(self, data: list, q: str=\"Q\", a: str=\"A\") -> None:\n",
    "        self.data = np.array(data)\n",
    "\n",
    "    def __len__(self):\n",
    "        return len(self.data)\n",
    "\n",
    "    def __getitem__(self, idx: int):\n",
    "        return self.data[idx]\n",
    "\n",
    "    def encode(self, emb: EmbedModel, tqdm_flag: bool=False, batch_len: int=1):\n",
    "        if batch_len < 1:\n",
    "            raise ValueError(\"batch_len should be >=1\")\n",
    "        batches = range(0, len(self.data), batch_len)\n",
    "        batched = (list(self.data[i:i+batch_len]) for i in batches)\n",
    "        if tqdm_flag:\n",
    "            proxy = tqdm(batched, total=len(self.data)/batch_len)\n",
    "        else:\n",
    "            proxy = batched\n",
    "        self.embedded = torch.cat([emb(batch) for batch in proxy], dim=0)\n",
    "        return self"
   ]
  },
  {
   "cell_type": "code",
   "execution_count": 154,
   "metadata": {},
   "outputs": [
    {
     "data": {
      "application/vnd.jupyter.widget-view+json": {
       "model_id": "7e400bae349e42018fe0f7dfd4ccf268",
       "version_major": 2,
       "version_minor": 0
      },
      "text/plain": [
       "  0%|          | 0/16407.0 [00:00<?, ?it/s]"
      ]
     },
     "metadata": {},
     "output_type": "display_data"
    }
   ],
   "source": [
    "db = AnswerDB(data1[\"A\"].tolist()).encode(emb_model, tqdm_flag=True)"
   ]
  },
  {
   "cell_type": "code",
   "execution_count": 155,
   "metadata": {},
   "outputs": [],
   "source": [
    "class Query:\n",
    "    def __init__(self, text):\n",
    "        self.text = text\n",
    "    \n",
    "    def embed(self, emb):\n",
    "        self.embedded = emb(self.text)\n",
    "        return self"
   ]
  },
  {
   "cell_type": "code",
   "execution_count": 156,
   "metadata": {},
   "outputs": [],
   "source": [
    "class GoldenRetrieval:\n",
    "    def __init__(self, data) -> None:\n",
    "        self.data = data\n",
    "        if not hasattr(self.data, \"embedded\"):\n",
    "            log.warning(\"Data for retrieval task doesn't have embeddings\")\n",
    "        \n",
    "    def find_it(self, q, top_k=None, sorted=True):\n",
    "        if not top_k:\n",
    "            top_k = self.data.embedded.shape[0]\n",
    "        similarity = self.data.embedded @ q.embedded.T\n",
    "        similarity = torch.topk(similarity.squeeze(-1).cpu(), k=top_k, sorted=sorted)\n",
    "        return {\n",
    "            \"answers\": self.data.data[similarity.indices],\n",
    "            \"similarities\": similarity.values\n",
    "        }\n"
   ]
  },
  {
   "cell_type": "code",
   "execution_count": 157,
   "metadata": {},
   "outputs": [],
   "source": [
    "doge = GoldenRetrieval(db)"
   ]
  },
  {
   "cell_type": "code",
   "execution_count": 164,
   "metadata": {},
   "outputs": [
    {
     "data": {
      "text/plain": [
       "{'answers': array(['Summary : You may need to take medicines every day, or only once in a while. Either way, you want to make sure that the medicines are safe and will help you get better. In the United States, the Food and Drug Administration is in charge of assuring the safety and effectiveness of both prescription and over-the-counter medicines.    Even safe drugs can cause unwanted side effects or interactions with food or other medicines you may be taking. They may not be safe during pregnancy. To reduce the risk of reactions and make sure that you get better, it is important for you to take your medicines correctly and be careful when giving medicines to children.',\n",
       "        'When you are pregnant, you are not just \"eating for two.\" You also breathe and drink for two, so it is important to carefully consider what you give to your baby. If you smoke, use alcohol or take illegal drugs, so does your unborn baby.    First, don\\'t smoke. Smoking during pregnancy passes nicotine and cancer-causing drugs to your baby. Smoke also keeps your baby from getting nourishment and raises the risk of stillbirth or premature birth. Don\\'t drink alcohol. There is no known safe amount of alcohol a woman can drink while pregnant. Alcohol can cause life-long physical and behavioral problems in children, including fetal alcohol syndrome. Don\\'t use illegal drugs. Using illegal drugs may cause underweight babies, birth defects or withdrawal symptoms after birth.    If you are pregnant and you smoke, drink alcohol or do drugs, get help. Your health care provider can recommend programs to help you quit. You and your baby will be better off.    Dept. of Health and Human Services Office on Women\\'s Health',\n",
       "        \"How might intrahepatic cholestasis of pregnancy be treated?  Treatment for intrahepatic cholestasis of pregnancy aims to relieve itching and prevent complications. Medications utilized to relieve itching might include ursodiol (Actigall, Urso), which helps decrease the level of bile in the mother's bloodstream, relieves itchiness and may reduce complications for the baby. To prevent pregnancy complications, close monitoring of the baby might be recommended. Even if prenatal tests appear normal, induction of early labor might be recommended.\",\n",
       "        'Researchers have not found a way to prevent kidney dysplasia caused by genetic factors or certain genetic syndromes. Pregnant women can prevent kidney dysplasia by avoiding the use of certain prescription medications or illegal drugs during pregnancy. Pregnant women should talk with their health care provider before taking any medications during pregnancy.'],\n",
       "       dtype='<U29046'),\n",
       " 'similarities': tensor([0.6358, 0.5681, 0.5651, 0.5621])}"
      ]
     },
     "execution_count": 164,
     "metadata": {},
     "output_type": "execute_result"
    }
   ],
   "source": [
    "text = \"Can I use paracetamol with pregnancy?\"\n",
    "\n",
    "query = Query(text).embed(emb_model)\n",
    "\n",
    "res = doge.find_it(query, top_k=4)\n",
    "res"
   ]
  },
  {
   "cell_type": "code",
   "execution_count": 163,
   "metadata": {},
   "outputs": [
    {
     "data": {
      "text/plain": [
       "{'answers': array([\"Mobility aids help you walk or move from place to place if you are disabled or have an injury. They include       - Crutches    - Canes    - Walkers    - Wheelchairs    - Motorized scooters       You may need a walker or cane if you are at risk of falling. If you need to keep your body weight off your foot, ankle or knee, you may need crutches. You may need a wheelchair or a scooter if an injury or disease has left you unable to walk.     Choosing these devices takes time and research. You should be fitted for crutches, canes and walkers. If they fit, these devices give you support, but if they don't fit, they can be uncomfortable and unsafe.\",\n",
       "        'Your legs are made up of bones, blood vessels, muscles, and other connective tissue. They are important for motion and standing. Playing sports, running, falling, or having an accident can damage your legs. Common leg injuries include sprains and strains, joint dislocations, and fractures.    These injuries can affect the entire leg, or just the foot, ankle, knee, or hip. Certain diseases also lead to leg problems. For example, knee osteoarthritis, common in older people, can cause pain and limited motion. Problems in your veins in your legs can lead to varicose veins or deep vein thrombosis.',\n",
       "        'Summary : Sports can be a great way to get in shape or stay that way. Having a specific goal can be a great motivator. Physically, you need strength and endurance. Your training will vary with your sport. You would not train the same way for pole vaulting as for swimming. You might, however, cross train. Cross training simply means that you include a variety of fitness activities in your program. Research shows that cross training builds stronger bones.     Remember to listen to your body. If you frequently feel exhausted or you are in pain, you may be overdoing it. Injuries can be the result. And be sure that you use your body and your equipment safely. What you eat and drink is also important. Water is the most important nutrient for active people. Drink it before, during and after workouts.',\n",
       "        'Summary : People can lose all or part of an arm or leg for a number of reasons. Common ones include       - Circulation problems from atherosclerosis or diabetes. They may cause you to need an amputation.    - Traumatic injuries, including from traffic accidents and military combat    - Cancer    - Birth defects       If you are missing an arm or leg, an artificial limb can sometimes replace it. The device, which is called a prosthesis, can help you to perform daily activities such as walking, eating, or dressing. Some artificial limbs let you function nearly as well as before.'],\n",
       "       dtype='<U29046'),\n",
       " 'similarities': tensor([0.7175, 0.6598, 0.6493, 0.6467])}"
      ]
     },
     "execution_count": 163,
     "metadata": {},
     "output_type": "execute_result"
    }
   ],
   "source": [
    "text = \"I broke my leg\"\n",
    "\n",
    "query = Query(text).embed(emb_model)\n",
    "\n",
    "res = doge.find_it(query, top_k=4)\n",
    "res"
   ]
  }
 ],
 "metadata": {
  "kernelspec": {
   "display_name": "biomapas",
   "language": "python",
   "name": "python3"
  },
  "language_info": {
   "codemirror_mode": {
    "name": "ipython",
    "version": 3
   },
   "file_extension": ".py",
   "mimetype": "text/x-python",
   "name": "python",
   "nbconvert_exporter": "python",
   "pygments_lexer": "ipython3",
   "version": "3.9.16"
  },
  "orig_nbformat": 4
 },
 "nbformat": 4,
 "nbformat_minor": 2
}
