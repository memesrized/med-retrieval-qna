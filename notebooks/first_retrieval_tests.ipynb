{
 "cells": [
  {
   "cell_type": "code",
   "execution_count": 1,
   "metadata": {},
   "outputs": [
    {
     "name": "stdout",
     "output_type": "stream",
     "text": [
      "cpu\n"
     ]
    }
   ],
   "source": [
    "import torch\n",
    "\n",
    "device = \"cuda:0\" if torch.cuda.is_available() else \"cpu\"\n",
    "print(device)"
   ]
  },
  {
   "cell_type": "code",
   "execution_count": 2,
   "metadata": {},
   "outputs": [
    {
     "name": "stdout",
     "output_type": "stream",
     "text": [
      "tensor([[0.6924]])\n"
     ]
    }
   ],
   "source": [
    "from mrq.models import EmbedModel\n",
    "\n",
    "emb_model = EmbedModel(\"menadsa/S-BioELECTRA\", device=device)\n",
    "\n",
    "# small smoke test\n",
    "a = emb_model(\"text\")\n",
    "assert torch.isclose(a.square().sum().sqrt(), torch.tensor(1).float()).item()\n",
    "\n",
    "print(emb_model(\"tumor in the chest\") @ emb_model(\"lungs cancer\").T)"
   ]
  },
  {
   "attachments": {},
   "cell_type": "markdown",
   "metadata": {},
   "source": [
    "### Data loading"
   ]
  },
  {
   "cell_type": "code",
   "execution_count": 3,
   "metadata": {},
   "outputs": [
    {
     "name": "stderr",
     "output_type": "stream",
     "text": [
      "Using custom data configuration default\n",
      "Found cached dataset medmcqa (/Users/Vasilii_Salikov/.cache/huggingface/datasets/medmcqa/default/1.1.0/f2fdfa9ccfbf9d148c0639e6afe3379f3c7e95c4d52d5e68ec1156e5004bd880)\n"
     ]
    },
    {
     "name": "stdout",
     "output_type": "stream",
     "text": [
      "2023-05-28 00:06:06,155 - mrq.data - INFO - Loaded data length: 182822\n",
      "2023-05-28 00:06:06,263 - mrq.data - INFO - Data length after dropna: 87077\n",
      "2023-05-28 00:06:07,636 - mrq.data - INFO - Final data length: 200\n"
     ]
    },
    {
     "name": "stderr",
     "output_type": "stream",
     "text": [
      "Using custom data configuration AnonymousSub--MedQuAD_47441_Question_Answer_Pairs-5625072dd394af39\n",
      "Found cached dataset parquet (/Users/Vasilii_Salikov/.cache/huggingface/datasets/AnonymousSub___parquet/AnonymousSub--MedQuAD_47441_Question_Answer_Pairs-5625072dd394af39/0.0.0/2a3b91fbd88a2c90d1dbbb32b460cf621d31bd5b05b934492fdef7d8d6f236ec)\n"
     ]
    },
    {
     "name": "stdout",
     "output_type": "stream",
     "text": [
      "2023-05-28 00:06:08,988 - mrq.data - INFO - Loaded data length: 47441\n",
      "2023-05-28 00:06:08,996 - mrq.data - INFO - Data length after dropna: 16407\n",
      "2023-05-28 00:06:09,009 - mrq.data - INFO - Final data length: 200\n"
     ]
    }
   ],
   "source": [
    "from mrq.data import load_data\n",
    "\n",
    "sample_size = 200 # change to 10000000 to use all data\n",
    "seed = 1337\n",
    "\n",
    "data = load_data(\"medmcqa\", sample_size=sample_size, seed=seed)\n",
    "data1 = load_data(\"AnonymousSub/MedQuAD_47441_Question_Answer_Pairs\", sample_size=sample_size, seed=seed)"
   ]
  },
  {
   "attachments": {},
   "cell_type": "markdown",
   "metadata": {},
   "source": [
    "### Retrieval"
   ]
  },
  {
   "cell_type": "code",
   "execution_count": 6,
   "metadata": {},
   "outputs": [
    {
     "data": {
      "application/vnd.jupyter.widget-view+json": {
       "model_id": "ba2832ef04c04bd293c3d0e81846ce69",
       "version_major": 2,
       "version_minor": 0
      },
      "text/plain": [
       "  0%|          | 0/400.0 [00:00<?, ?it/s]"
      ]
     },
     "metadata": {},
     "output_type": "display_data"
    }
   ],
   "source": [
    "import numpy as np\n",
    "from mrq.data import AnswerDB, Query\n",
    "from mrq.algs import GoldenRetriever\n",
    "\n",
    "db = AnswerDB(data1[\"A\"].tolist()+data[\"A\"].tolist()).encode(emb_model, tqdm_flag=True)\n",
    "doge = GoldenRetriever(db)"
   ]
  },
  {
   "cell_type": "code",
   "execution_count": 163,
   "metadata": {},
   "outputs": [
    {
     "data": {
      "text/plain": [
       "{'answers': array([\"Mobility aids help you walk or move from place to place if you are disabled or have an injury. They include       - Crutches    - Canes    - Walkers    - Wheelchairs    - Motorized scooters       You may need a walker or cane if you are at risk of falling. If you need to keep your body weight off your foot, ankle or knee, you may need crutches. You may need a wheelchair or a scooter if an injury or disease has left you unable to walk.     Choosing these devices takes time and research. You should be fitted for crutches, canes and walkers. If they fit, these devices give you support, but if they don't fit, they can be uncomfortable and unsafe.\",\n",
       "        'Your legs are made up of bones, blood vessels, muscles, and other connective tissue. They are important for motion and standing. Playing sports, running, falling, or having an accident can damage your legs. Common leg injuries include sprains and strains, joint dislocations, and fractures.    These injuries can affect the entire leg, or just the foot, ankle, knee, or hip. Certain diseases also lead to leg problems. For example, knee osteoarthritis, common in older people, can cause pain and limited motion. Problems in your veins in your legs can lead to varicose veins or deep vein thrombosis.',\n",
       "        'Summary : Sports can be a great way to get in shape or stay that way. Having a specific goal can be a great motivator. Physically, you need strength and endurance. Your training will vary with your sport. You would not train the same way for pole vaulting as for swimming. You might, however, cross train. Cross training simply means that you include a variety of fitness activities in your program. Research shows that cross training builds stronger bones.     Remember to listen to your body. If you frequently feel exhausted or you are in pain, you may be overdoing it. Injuries can be the result. And be sure that you use your body and your equipment safely. What you eat and drink is also important. Water is the most important nutrient for active people. Drink it before, during and after workouts.',\n",
       "        'Summary : People can lose all or part of an arm or leg for a number of reasons. Common ones include       - Circulation problems from atherosclerosis or diabetes. They may cause you to need an amputation.    - Traumatic injuries, including from traffic accidents and military combat    - Cancer    - Birth defects       If you are missing an arm or leg, an artificial limb can sometimes replace it. The device, which is called a prosthesis, can help you to perform daily activities such as walking, eating, or dressing. Some artificial limbs let you function nearly as well as before.'],\n",
       "       dtype='<U29046'),\n",
       " 'similarities': tensor([0.7175, 0.6598, 0.6493, 0.6467])}"
      ]
     },
     "execution_count": 163,
     "metadata": {},
     "output_type": "execute_result"
    }
   ],
   "source": [
    "text = \"I broke my leg\"\n",
    "\n",
    "query = Query(text).embed(emb_model)\n",
    "\n",
    "res = doge.find_it(query, top_k=4)\n",
    "res"
   ]
  }
 ],
 "metadata": {
  "kernelspec": {
   "display_name": "biomapas",
   "language": "python",
   "name": "biomapas"
  },
  "language_info": {
   "codemirror_mode": {
    "name": "ipython",
    "version": 3
   },
   "file_extension": ".py",
   "mimetype": "text/x-python",
   "name": "python",
   "nbconvert_exporter": "python",
   "pygments_lexer": "ipython3",
   "version": "3.8.10"
  },
  "orig_nbformat": 4
 },
 "nbformat": 4,
 "nbformat_minor": 2
}
