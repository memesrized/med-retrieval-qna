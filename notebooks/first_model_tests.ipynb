{
 "cells": [
  {
   "cell_type": "code",
   "execution_count": 1,
   "metadata": {
    "ExecuteTime": {
     "end_time": "2023-05-24T18:43:55.428391Z",
     "start_time": "2023-05-24T18:43:55.420480Z"
    }
   },
   "outputs": [],
   "source": [
    "import os\n",
    "from pprint import pprint\n",
    "from typing import Union\n",
    "\n",
    "import pandas as pd\n",
    "from mrq.data import load_data\n",
    "from mrq.logger import get_logger\n",
    "from mrq.models import NERModel\n",
    "from tqdm import tqdm\n",
    "\n",
    "log = get_logger(__name__)\n",
    "\n",
    "tqdm.pandas()\n",
    "# some tokenizers require this\n",
    "os.environ[\"TOKENIZERS_PARALLELISM\"] = \"false\""
   ]
  },
  {
   "attachments": {},
   "cell_type": "markdown",
   "metadata": {},
   "source": [
    "## Data loading"
   ]
  },
  {
   "cell_type": "code",
   "execution_count": 2,
   "metadata": {
    "ExecuteTime": {
     "end_time": "2023-05-24T18:44:04.931679Z",
     "start_time": "2023-05-24T18:44:02.246446Z"
    }
   },
   "outputs": [
    {
     "name": "stdout",
     "output_type": "stream",
     "text": [
      "2023-05-27 19:28:45,952 - datasets.builder - WARNING - Using custom data configuration default\n",
      "2023-05-27 19:28:45,968 - datasets.builder - WARNING - Found cached dataset medmcqa (/Users/Vasilii_Salikov/.cache/huggingface/datasets/medmcqa/default/1.1.0/f2fdfa9ccfbf9d148c0639e6afe3379f3c7e95c4d52d5e68ec1156e5004bd880)\n"
     ]
    }
   ],
   "source": [
    "data = load_data(\"medmcqa\", sample_size=100)"
   ]
  },
  {
   "attachments": {},
   "cell_type": "markdown",
   "metadata": {},
   "source": [
    "## Models comparison"
   ]
  },
  {
   "attachments": {},
   "cell_type": "markdown",
   "metadata": {},
   "source": [
    "Models to check:\n",
    "- `jarvisx17/medicine-ner` - doesn't work\n",
    "- `ukkendane/bert-medical-ner` - works quite well\n",
    "- `samrawal/bert-large-uncased_med-ner` - too heavy and results are questionable\n",
    "- `samrawal/bert-base-uncased_clinical-ner` - better than previous one, but still some broken ents (fixed with \"first\" strategy?)\n",
    "- `reginaboateng/clinical_bert_adapter_ner_pico_for_classification_task` - adapter-transformers lib is needed, so let's skip it but it's probably ok model\n",
    "- `kamalkraj/BioELECTRA-PICO` - broken tokenizer, need more time to fix"
   ]
  },
  {
   "cell_type": "code",
   "execution_count": 3,
   "metadata": {
    "ExecuteTime": {
     "end_time": "2023-05-24T18:44:07.839283Z",
     "start_time": "2023-05-24T18:44:07.826628Z"
    }
   },
   "outputs": [],
   "source": [
    "def test_model(\n",
    "    model_name: str, data: pd.DataFrame, col=\"QA\", aggregation_strategy=\"first\"\n",
    ") -> pd.DataFrame:\n",
    "    model = NERModel(model_name, agg=aggregation_strategy)\n",
    "    data[\"res\"] = data[col].progress_map(model)\n",
    "    # at least a single entity is predicted\n",
    "    data_with_res = data[data[\"res\"].map(bool)]\n",
    "    log.info(\"Data len: {0}\".format(len(data)))\n",
    "    log.info(\"Number or records with entities: {0}\".format(len(data_with_res)))\n",
    "    return data_with_res\n",
    "\n",
    "\n",
    "def print_some_results(\n",
    "    data_with_res: pd.DataFrame, col=\"QA\", sample: Union[int, float] = 5\n",
    "):\n",
    "    for i, row in data_with_res.sample(min(sample, len(data_with_res))).iterrows():\n",
    "        print(\"Id:\", i, \"\\n\")\n",
    "        print(\"Input text:\", row[col], \"\\b\")\n",
    "        print(\"Entities:\")\n",
    "        pprint(row[\"res\"])\n",
    "        print(\"-\" * 100)"
   ]
  },
  {
   "cell_type": "code",
   "execution_count": 4,
   "metadata": {
    "ExecuteTime": {
     "end_time": "2023-05-24T18:44:10.677453Z",
     "start_time": "2023-05-24T18:44:08.434946Z"
    }
   },
   "outputs": [
    {
     "name": "stderr",
     "output_type": "stream",
     "text": [
      "100%|██████████| 100/100 [00:18<00:00,  5.53it/s]"
     ]
    },
    {
     "name": "stdout",
     "output_type": "stream",
     "text": [
      "2023-05-27 19:29:07,361 - root - INFO - Data len: 100\n",
      "2023-05-27 19:29:07,362 - root - INFO - Number or records with entities: 0\n"
     ]
    },
    {
     "name": "stderr",
     "output_type": "stream",
     "text": [
      "\n"
     ]
    }
   ],
   "source": [
    "model_name = \"jarvisx17/medicine-ner\"\n",
    "\n",
    "test_jarvisx17 = test_model(model_name, data, col=\"A\")\n",
    "\n",
    "print_some_results(test_jarvisx17)"
   ]
  },
  {
   "cell_type": "code",
   "execution_count": 5,
   "metadata": {
    "ExecuteTime": {
     "end_time": "2023-05-24T18:24:14.875498Z",
     "start_time": "2023-05-24T18:24:14.394711Z"
    }
   },
   "outputs": [
    {
     "name": "stderr",
     "output_type": "stream",
     "text": [
      "100%|██████████| 100/100 [00:35<00:00,  2.78it/s]"
     ]
    },
    {
     "name": "stdout",
     "output_type": "stream",
     "text": [
      "2023-05-27 19:29:44,937 - root - INFO - Data len: 100\n",
      "2023-05-27 19:29:44,938 - root - INFO - Number or records with entities: 99\n",
      "Id: 34313 \n",
      "\n",
      "Input text: Blow out fracture. Tear drop sign: -On Water's view radiograph, polypoid mass can be observed hanging from the floor into the maxillary antrum - Seen in the Blowout fracture of the orbit. Blowout fracture of the orbit: -The Diplopia is due to Inferior Rectus muscle entrapment. - Forced duction test is done to differentiate.\n",
      "Entities:\n",
      "[{'end': 17, 'start': 0, 'tag': 'problem', 'text': 'blow out fracture'},\n",
      " {'end': 33, 'start': 19, 'tag': 'problem', 'text': 'tear drop sign'},\n",
      " {'end': 44, 'start': 39, 'tag': 'test', 'text': 'water'},\n",
      " {'end': 77, 'start': 64, 'tag': 'problem', 'text': 'polypoid mass'},\n",
      " {'end': 186,\n",
      "  'start': 153,\n",
      "  'tag': 'problem',\n",
      "  'text': 'the blowout fracture of the orbit'},\n",
      " {'end': 217,\n",
      "  'start': 188,\n",
      "  'tag': 'problem',\n",
      "  'text': 'blowout fracture of the orbit'},\n",
      " {'end': 232, 'start': 220, 'tag': 'problem', 'text': 'the diplopia'},\n",
      " {'end': 276,\n",
      "  'start': 243,\n",
      "  'tag': 'problem',\n",
      "  'text': 'inferior rectus muscle entrapment'},\n",
      " {'end': 299, 'start': 280, 'tag': 'test', 'text': 'forced duction test'}]\n",
      "----------------------------------------------------------------------------------------------------\n",
      "Id: 92339 \n",
      "\n",
      "Input text: IgG. IgG antibody provides an \"immune history.\" That is, IgG antibody persists in most people and indicates the antigens to which they have been exposed. IgG is not formed early in infection but is a secondary response arising weeks to months after antigenic challenge. IgG also has a built-in memory. Even people with very low levels of specific IgG will respond to an antigen challenge with an IgG response.\n",
      "Entities:\n",
      "[{'end': 3, 'start': 0, 'tag': 'test', 'text': 'igg'},\n",
      " {'end': 17, 'start': 5, 'tag': 'test', 'text': 'igg antibody'},\n",
      " {'end': 52, 'start': 48, 'tag': 'pronoun', 'text': 'that'},\n",
      " {'end': 69, 'start': 57, 'tag': 'test', 'text': 'igg antibody'},\n",
      " {'end': 134, 'start': 124, 'tag': 'pronoun', 'text': 'which they'},\n",
      " {'end': 157, 'start': 154, 'tag': 'test', 'text': 'igg'},\n",
      " {'end': 190, 'start': 181, 'tag': 'problem', 'text': 'infection'},\n",
      " {'end': 268, 'start': 249, 'tag': 'test', 'text': 'antigenic challenge'},\n",
      " {'end': 273, 'start': 270, 'tag': 'test', 'text': 'igg'},\n",
      " {'end': 300, 'start': 283, 'tag': 'problem', 'text': 'a built - in memory'},\n",
      " {'end': 350,\n",
      "  'start': 319,\n",
      "  'tag': 'problem',\n",
      "  'text': 'very low levels of specific igg'},\n",
      " {'end': 387, 'start': 367, 'tag': 'test', 'text': 'an antigen challenge'}]\n",
      "----------------------------------------------------------------------------------------------------\n",
      "Id: 149060 \n",
      "\n",
      "Input text: Cell wall. Ref Katzung 10/e p 741 Bacitracin acts by inhibiting the synthesis of cell wall Other polypeptide antibiotics like Polymyxin B, colistin and tyrothricin act by affecting membranes\n",
      "Entities:\n",
      "[{'end': 44, 'start': 34, 'tag': 'treatment', 'text': 'bacitracin'},\n",
      " {'end': 137, 'start': 126, 'tag': 'treatment', 'text': 'polymyxin b'},\n",
      " {'end': 147, 'start': 139, 'tag': 'treatment', 'text': 'colistin'},\n",
      " {'end': 163, 'start': 152, 'tag': 'treatment', 'text': 'tyrothricin'}]\n",
      "----------------------------------------------------------------------------------------------------\n",
      "Id: 172790 \n",
      "\n",
      "Input text: 8th May 1980. Ans. (b) 8th May 1980* Last indigenous case of Smallpox in India: 77th May 1975* Last case of Smallpox in India: 24th May 1975* India declared Smallpox-free: 23 April 1977* Last case of Smallpox globally: 26th October 1977 (Somalia)* Actual last case of smallpox : 1978* Global eradication of Smallpox: 8th May 1980\n",
      "Entities:\n",
      "[{'end': 17, 'start': 14, 'tag': 'test', 'text': 'ans'},\n",
      " {'end': 69, 'start': 61, 'tag': 'problem', 'text': 'smallpox'},\n",
      " {'end': 116, 'start': 108, 'tag': 'problem', 'text': 'smallpox'},\n",
      " {'end': 165, 'start': 157, 'tag': 'problem', 'text': 'smallpox'},\n",
      " {'end': 208, 'start': 200, 'tag': 'problem', 'text': 'smallpox'},\n",
      " {'end': 276, 'start': 268, 'tag': 'problem', 'text': 'smallpox'},\n",
      " {'end': 315, 'start': 307, 'tag': 'problem', 'text': 'smallpox'}]\n",
      "----------------------------------------------------------------------------------------------------\n",
      "Id: 139161 \n",
      "\n",
      "Input text: It occurs in the distal jejunum. Ans: b (It occurs in the distal jejunum) Ref: Ganong, 22nd ed, p. 477Physiology of iron absorptionIron metabolism is unique because homeostasis is maintained by regulation at the level of absorption and not by excretion.Almost all iron absoiption occurs in the duodenum and upper jejunum.Only about 6-10% of the dietary iron is absorbed.Factors that increase iron absorptionMeatAscorbic acidAcidsSH group containing amino acidFactors that decrease iron absorptionPhytates in dietOxalates in dietIron is absorbed from the intestine in the ferrous form (Fe2+). It is transported from the lumen into the enterocytes via DMT1. Some Fe2+ in enterocyte is converted to Fe3+ and stored as ferritin. Rest of the iron (Fe2+) is transported from the enterocyte into the plasma by ferroportin 1. Ferroportin 1 is associated with a protein hephaestin (Hp) which facilitates transport of iron.In the plasma Fe2+ is converted to Fe!+ and bound to the iron transport protein transferrin. Transferrin is the transport form of iron.Iron is stored in liver, spleen, bone marrow and mucosal cells as ferritin.\n",
      "Entities:\n",
      "[{'end': 2, 'start': 0, 'tag': 'pronoun', 'text': 'it'},\n",
      " {'end': 36, 'start': 33, 'tag': 'test', 'text': 'ans'},\n",
      " {'end': 43, 'start': 41, 'tag': 'pronoun', 'text': 'it'},\n",
      " {'end': 135, 'start': 116, 'tag': 'test', 'text': 'iron absorptioniron'},\n",
      " {'end': 344, 'start': 341, 'tag': 'treatment', 'text': 'the'},\n",
      " {'end': 382, 'start': 378, 'tag': 'pronoun', 'text': 'that'},\n",
      " {'end': 396, 'start': 392, 'tag': 'test', 'text': 'iron'},\n",
      " {'end': 466, 'start': 449, 'tag': 'treatment', 'text': 'amino acidfactors'},\n",
      " {'end': 471, 'start': 467, 'tag': 'pronoun', 'text': 'that'},\n",
      " {'end': 485, 'start': 481, 'tag': 'test', 'text': 'iron'},\n",
      " {'end': 520, 'start': 508, 'tag': 'treatment', 'text': 'dietoxalates'},\n",
      " {'end': 594, 'start': 592, 'tag': 'pronoun', 'text': 'it'},\n",
      " {'end': 654, 'start': 650, 'tag': 'treatment', 'text': 'dmt1'},\n",
      " {'end': 723, 'start': 715, 'tag': 'treatment', 'text': 'ferritin'},\n",
      " {'end': 814, 'start': 803, 'tag': 'treatment', 'text': 'ferroportin'},\n",
      " {'end': 829, 'start': 818, 'tag': 'test', 'text': 'ferroportin'},\n",
      " {'end': 871, 'start': 851, 'tag': 'treatment', 'text': 'a protein hephaestin'},\n",
      " {'end': 882, 'start': 877, 'tag': 'pronoun', 'text': 'which'},\n",
      " {'end': 930, 'start': 927, 'tag': 'test', 'text': 'fe2'},\n",
      " {'end': 950, 'start': 948, 'tag': 'treatment', 'text': 'fe'},\n",
      " {'end': 992,\n",
      "  'start': 966,\n",
      "  'tag': 'treatment',\n",
      "  'text': 'the iron transport protein'},\n",
      " {'end': 1004, 'start': 993, 'tag': 'treatment', 'text': 'transferrin'},\n",
      " {'end': 1017, 'start': 1006, 'tag': 'treatment', 'text': 'transferrin'},\n",
      " {'end': 1122, 'start': 1114, 'tag': 'treatment', 'text': 'ferritin'}]\n",
      "----------------------------------------------------------------------------------------------------\n"
     ]
    },
    {
     "name": "stderr",
     "output_type": "stream",
     "text": [
      "\n"
     ]
    }
   ],
   "source": [
    "model_name = \"ukkendane/bert-medical-ner\"\n",
    "\n",
    "test_ukkendane = test_model(model_name, data, col=\"A\")\n",
    "\n",
    "print_some_results(test_ukkendane, col=\"A\")"
   ]
  },
  {
   "cell_type": "code",
   "execution_count": 7,
   "metadata": {},
   "outputs": [
    {
     "name": "stdout",
     "output_type": "stream",
     "text": [
      "Id: 149060 \n",
      "\n",
      "Input text: Cell wall. Ref Katzung 10/e p 741 Bacitracin acts by inhibiting the synthesis of cell wall Other polypeptide antibiotics like Polymyxin B, colistin and tyrothricin act by affecting membranes\n",
      "Entities:\n",
      "[{'end': 44, 'start': 34, 'tag': 'treatment', 'text': 'bacitracin'},\n",
      " {'end': 90, 'start': 81, 'tag': 'treatment', 'text': 'cell wall'},\n",
      " {'end': 120,\n",
      "  'start': 97,\n",
      "  'tag': 'treatment',\n",
      "  'text': 'polypeptide antibiotics'},\n",
      " {'end': 137, 'start': 126, 'tag': 'treatment', 'text': 'polymyxin b'},\n",
      " {'end': 147, 'start': 139, 'tag': 'treatment', 'text': 'colistin'},\n",
      " {'end': 163, 'start': 152, 'tag': 'treatment', 'text': 'tyrothricin'}]\n",
      "----------------------------------------------------------------------------------------------------\n",
      "Id: 141016 \n",
      "\n",
      "Input text: Protein. Bilirubin formed by the destruction of RBCs is free or unconjugated bilirubin.It is lipid soluble and bound to albumin(protein conjugation),which prevents it's excretion by the kidneys in urine. Ref.Text book of physiology by AK Jain 7th edition page no.79\n",
      "Entities:\n",
      "[{'end': 18, 'start': 0, 'tag': 'test', 'text': 'protein. bilirubin'},\n",
      " {'end': 44, 'start': 33, 'tag': 'treatment', 'text': 'destruction'},\n",
      " {'end': 52, 'start': 48, 'tag': 'treatment', 'text': 'rbcs'},\n",
      " {'end': 60, 'start': 56, 'tag': 'problem', 'text': 'free'},\n",
      " {'end': 76, 'start': 64, 'tag': 'problem', 'text': 'unconjugated'},\n",
      " {'end': 148,\n",
      "  'start': 120,\n",
      "  'tag': 'treatment',\n",
      "  'text': 'albumin ( protein conjugation )'}]\n",
      "----------------------------------------------------------------------------------------------------\n",
      "Id: 69652 \n",
      "\n",
      "Input text: 99%. Composition of amniotic fluid : Water -98-99% Solid -1-2% -Inorganic, Organic, Suspended paicles. Ref:Datta Obs 9e pg 34.\n",
      "Entities:\n",
      "[{'end': 42, 'start': 37, 'tag': 'test', 'text': 'water'},\n",
      " {'end': 116, 'start': 107, 'tag': 'treatment', 'text': 'datta obs'}]\n",
      "----------------------------------------------------------------------------------------------------\n",
      "Id: 180832 \n",
      "\n",
      "Input text: Cranial USG. Brain imaging Imaging tests can help diagnose hydrocephalus and identify underlying causes of the symptoms. These tests may include: Ultrasound. Ultrasound imaging, which uses high-frequency sound waves to produce images, is often used for an initial assessment for infants because it&;s a relatively simple, low-risk procedure. The ultrasound device is placed over the soft spot (fontanel) on the top of a baby&;s head. Ultrasound may also detect hydrocephalus prior to bih when the procedure is used during routine prenatal examinations. Magnetic resonance imaging (MRI) uses radio waves and a magnetic field to produce detailed 3D or cross-sectional images of the brain. This test is painless, but it is noisy and requires lying still. MRI scans can show enlarged ventricles caused by excess cerebrospinal fluid. They may also be used to identify underlying causes of hydrocephalus or other conditions contributing to the symptoms. Children may need mild sedation for some MRI scans. However, some hospitals use a very fast version of MRIthat generally doesn&;t require sedation. Computerized tomography (CT) scan is a specialized X-ray technology that can produce cross-sectional views of the brain. Scanning is painless and quick. But this test also requires lying still, so a child usually receives a mild sedative. Drawbacks to CT scanning include less detailed images than an MRI, and exposure to a small amount of radiation. CT scans for hydrocephalus are usually used only for emergency exams. Reference: GHAI Essential pediatrics, 8th edition\n",
      "Entities:\n",
      "[{'end': 12, 'start': 0, 'tag': 'test', 'text': 'cranial usg.'},\n",
      " {'end': 40, 'start': 13, 'tag': 'test', 'text': 'brain imaging imaging tests'},\n",
      " {'end': 72, 'start': 59, 'tag': 'problem', 'text': 'hydrocephalus'},\n",
      " {'end': 119, 'start': 107, 'tag': 'problem', 'text': 'the symptoms'},\n",
      " {'end': 132, 'start': 127, 'tag': 'test', 'text': 'tests'},\n",
      " {'end': 156, 'start': 146, 'tag': 'test', 'text': 'ultrasound'},\n",
      " {'end': 176, 'start': 158, 'tag': 'test', 'text': 'ultrasound imaging'},\n",
      " {'end': 215,\n",
      "  'start': 189,\n",
      "  'tag': 'test',\n",
      "  'text': 'high - frequency sound waves'},\n",
      " {'end': 274, 'start': 253, 'tag': 'test', 'text': 'an initial assessment'},\n",
      " {'end': 363,\n",
      "  'start': 342,\n",
      "  'tag': 'treatment',\n",
      "  'text': 'the ultrasound device'},\n",
      " {'end': 444, 'start': 434, 'tag': 'test', 'text': 'ultrasound'},\n",
      " {'end': 474, 'start': 461, 'tag': 'problem', 'text': 'hydrocephalus'},\n",
      " {'end': 506, 'start': 493, 'tag': 'treatment', 'text': 'the procedure'},\n",
      " {'end': 551,\n",
      "  'start': 522,\n",
      "  'tag': 'test',\n",
      "  'text': 'routine prenatal examinations'},\n",
      " {'end': 584,\n",
      "  'start': 553,\n",
      "  'tag': 'test',\n",
      "  'text': 'magnetic resonance imaging ( mri'},\n",
      " {'end': 602, 'start': 591, 'tag': 'test', 'text': 'radio waves'},\n",
      " {'end': 623, 'start': 607, 'tag': 'test', 'text': 'a magnetic field'},\n",
      " {'end': 685,\n",
      "  'start': 635,\n",
      "  'tag': 'test',\n",
      "  'text': 'detailed 3d or cross - sectional images of the brain'},\n",
      " {'end': 696, 'start': 687, 'tag': 'test', 'text': 'this test'},\n",
      " {'end': 708, 'start': 700, 'tag': 'problem', 'text': 'painless'},\n",
      " {'end': 761, 'start': 752, 'tag': 'test', 'text': 'mri scans'},\n",
      " {'end': 790, 'start': 771, 'tag': 'problem', 'text': 'enlarged ventricles'},\n",
      " {'end': 827,\n",
      "  'start': 801,\n",
      "  'tag': 'problem',\n",
      "  'text': 'excess cerebrospinal fluid'},\n",
      " {'end': 897, 'start': 884, 'tag': 'problem', 'text': 'hydrocephalus'},\n",
      " {'end': 917, 'start': 901, 'tag': 'problem', 'text': 'other conditions'},\n",
      " {'end': 946, 'start': 934, 'tag': 'problem', 'text': 'the symptoms'},\n",
      " {'end': 979, 'start': 966, 'tag': 'treatment', 'text': 'mild sedation'},\n",
      " {'end': 998, 'start': 984, 'tag': 'test', 'text': 'some mri scans'},\n",
      " {'end': 1039, 'start': 1028, 'tag': 'test', 'text': 'a very fast'},\n",
      " {'end': 1058, 'start': 1051, 'tag': 'test', 'text': 'mrithat'},\n",
      " {'end': 1094, 'start': 1086, 'tag': 'treatment', 'text': 'sedation'},\n",
      " {'end': 1129,\n",
      "  'start': 1096,\n",
      "  'tag': 'test',\n",
      "  'text': 'computerized tomography ( ct ) scan'},\n",
      " {'end': 1146, 'start': 1135, 'tag': 'treatment', 'text': 'specialized'},\n",
      " {'end': 1152, 'start': 1147, 'tag': 'test', 'text': 'x - ray'},\n",
      " {'end': 1163, 'start': 1153, 'tag': 'treatment', 'text': 'technology'},\n",
      " {'end': 1215,\n",
      "  'start': 1181,\n",
      "  'tag': 'test',\n",
      "  'text': 'cross - sectional views of the brain'},\n",
      " {'end': 1225, 'start': 1217, 'tag': 'test', 'text': 'scanning'},\n",
      " {'end': 1237, 'start': 1229, 'tag': 'problem', 'text': 'painless'},\n",
      " {'end': 1262, 'start': 1253, 'tag': 'test', 'text': 'this test'},\n",
      " {'end': 1333, 'start': 1318, 'tag': 'treatment', 'text': 'a mild sedative'},\n",
      " {'end': 1359, 'start': 1348, 'tag': 'test', 'text': 'ct scanning'},\n",
      " {'end': 1388, 'start': 1368, 'tag': 'problem', 'text': 'less detailed images'},\n",
      " {'end': 1400, 'start': 1394, 'tag': 'test', 'text': 'an mri'},\n",
      " {'end': 1414, 'start': 1406, 'tag': 'problem', 'text': 'exposure'},\n",
      " {'end': 1445,\n",
      "  'start': 1418,\n",
      "  'tag': 'problem',\n",
      "  'text': 'a small amount of radiation'},\n",
      " {'end': 1455, 'start': 1447, 'tag': 'test', 'text': 'ct scans'},\n",
      " {'end': 1473, 'start': 1460, 'tag': 'problem', 'text': 'hydrocephalus'},\n",
      " {'end': 1515, 'start': 1500, 'tag': 'test', 'text': 'emergency exams'}]\n",
      "----------------------------------------------------------------------------------------------------\n",
      "Id: 153313 \n",
      "\n",
      "Input text: I131. Iodine scintigraphy with I 123 and I 131 is used to evaluate the functional status of the gland. Advantages of scanning with I 123 include a low dose of radiation and sho half-life. I 123 is a good choice for evaluating suspected lingual thyroids or substernal goiters. I 131 has a longer half-life and emits higher levels of b-radiation. I 131 is optimal for imaging thyroid carcinoma and is the screening modality of choice for the evaluation of distant metastasis. RAI (I 131 ) has several paicular purposes in the treatment of DTC after thyroidectomy, including Ablation of remnant thyroid tissue to facilitate detection of later disease recurrence by imaging and Tg assay, Adjuvant therapy with the intention of targeting occult metastatic disease, and Primary treatment of known persistent disease Technetium 99m peechnetate (99mTc) is taken up rapidly by the normal activity of follicular cells. 99mTc has a sho half-life and low radiation dose. Its rapid absorption allows quick evaluation of increased uptake (\"hot\") or hypofunctioning (\"cold\") areas of the thyroid . Malignancy is present in 15% to 20% of cold nodules and in less than 5% of hot nodules.\n",
      "Entities:\n",
      "[{'end': 25, 'start': 6, 'tag': 'test', 'text': 'iodine scintigraphy'},\n",
      " {'end': 125, 'start': 117, 'tag': 'test', 'text': 'scanning'},\n",
      " {'end': 136, 'start': 131, 'tag': 'test', 'text': 'i 123'},\n",
      " {'end': 168, 'start': 159, 'tag': 'treatment', 'text': 'radiation'},\n",
      " {'end': 186, 'start': 182, 'tag': 'test', 'text': 'life'},\n",
      " {'end': 252, 'start': 236, 'tag': 'problem', 'text': 'lingual thyroids'},\n",
      " {'end': 274, 'start': 256, 'tag': 'problem', 'text': 'substernal goiters'},\n",
      " {'end': 343, 'start': 332, 'tag': 'problem', 'text': 'b - radiation'},\n",
      " {'end': 391, 'start': 374, 'tag': 'problem', 'text': 'thyroid carcinoma'},\n",
      " {'end': 450, 'start': 436, 'tag': 'test', 'text': 'the evaluation'},\n",
      " {'end': 472, 'start': 454, 'tag': 'problem', 'text': 'distant metastasis'},\n",
      " {'end': 540, 'start': 537, 'tag': 'problem', 'text': 'dtc'},\n",
      " {'end': 560, 'start': 547, 'tag': 'treatment', 'text': 'thyroidectomy'},\n",
      " {'end': 583, 'start': 572, 'tag': 'treatment', 'text': 'ablation of'},\n",
      " {'end': 606, 'start': 584, 'tag': 'problem', 'text': 'remnant thyroid tissue'},\n",
      " {'end': 658,\n",
      "  'start': 634,\n",
      "  'tag': 'problem',\n",
      "  'text': 'later disease recurrence'},\n",
      " {'end': 669, 'start': 662, 'tag': 'test', 'text': 'imaging'},\n",
      " {'end': 682, 'start': 674, 'tag': 'test', 'text': 'tg assay'},\n",
      " {'end': 700, 'start': 684, 'tag': 'treatment', 'text': 'adjuvant therapy'},\n",
      " {'end': 758,\n",
      "  'start': 733,\n",
      "  'tag': 'problem',\n",
      "  'text': 'occult metastatic disease'},\n",
      " {'end': 809,\n",
      "  'start': 785,\n",
      "  'tag': 'problem',\n",
      "  'text': 'known persistent disease'},\n",
      " {'end': 820, 'start': 810, 'tag': 'treatment', 'text': 'technetium'},\n",
      " {'end': 836, 'start': 825, 'tag': 'treatment', 'text': 'peechnetate'},\n",
      " {'end': 914, 'start': 909, 'tag': 'treatment', 'text': '99mtc'},\n",
      " {'end': 952, 'start': 943, 'tag': 'problem', 'text': 'radiation'},\n",
      " {'end': 1003, 'start': 993, 'tag': 'test', 'text': 'evaluation'},\n",
      " {'end': 1025, 'start': 1007, 'tag': 'problem', 'text': 'increased uptake ('},\n",
      " {'end': 1029, 'start': 1026, 'tag': 'problem', 'text': 'hot'},\n",
      " {'end': 1031, 'start': 1030, 'tag': 'problem', 'text': ')'},\n",
      " {'end': 1072,\n",
      "  'start': 1035,\n",
      "  'tag': 'problem',\n",
      "  'text': 'hypofunctioning ( \" cold \" ) areas of the'},\n",
      " {'end': 1093, 'start': 1083, 'tag': 'problem', 'text': 'malignancy'},\n",
      " {'end': 1134, 'start': 1122, 'tag': 'problem', 'text': 'cold nodules'},\n",
      " {'end': 1169, 'start': 1158, 'tag': 'problem', 'text': 'hot nodules'}]\n",
      "----------------------------------------------------------------------------------------------------\n"
     ]
    }
   ],
   "source": [
    "model_name = \"samrawal/bert-base-uncased_clinical-ner\"\n",
    "\n",
    "# tokenizer = AutoTokenizer.from_pretrained(model_name)\n",
    "# ent_decoder_dash = EntityDecoder(tokenizer=tokenizer, tag_sep=\"-\")\n",
    "\n",
    "test_samrawal_base = test_model(model_name, data, col=\"A\")\n",
    "\n",
    "print_some_results(test_samrawal_base, col=\"A\")"
   ]
  },
  {
   "cell_type": "code",
   "execution_count": 8,
   "metadata": {
    "ExecuteTime": {
     "end_time": "2023-05-24T18:24:14.877421Z",
     "start_time": "2023-05-24T18:24:14.877407Z"
    }
   },
   "outputs": [
    {
     "name": "stderr",
     "output_type": "stream",
     "text": [
      "100%|██████████| 100/100 [02:02<00:00,  1.22s/it]"
     ]
    },
    {
     "name": "stdout",
     "output_type": "stream",
     "text": [
      "2023-05-27 19:33:24,334 - root - INFO - Data len: 100\n",
      "2023-05-27 19:33:24,335 - root - INFO - Number or records with entities: 75\n",
      "Id: 124291 \n",
      "\n",
      "Input text: Valproate. Valproic acid is the drug of choice for absence seizures, myoclonic epilepsy, LG syndrome and infantile spasms. For women of child bearing age lamotrigine and levitriacetam can be a 2nd line drug. Ref: HL Sharma 3rd ed.Pg: 534\n",
      "Entities:\n",
      "[{'end': 9, 'start': 0, 'tag': 'm', 'text': 'valproate'},\n",
      " {'end': 24, 'start': 11, 'tag': 'm', 'text': 'valproic acid'},\n",
      " {'end': 67, 'start': 51, 'tag': 'r', 'text': 'absence seizures'},\n",
      " {'end': 87, 'start': 69, 'tag': 'r', 'text': 'myoclonic epilepsy'},\n",
      " {'end': 121, 'start': 115, 'tag': 'r', 'text': 'spasms'},\n",
      " {'end': 165, 'start': 154, 'tag': 'm', 'text': 'lamotrigine'},\n",
      " {'end': 183, 'start': 170, 'tag': 'm', 'text': 'levitriacetam'}]\n",
      "----------------------------------------------------------------------------------------------------\n",
      "Id: 159902 \n",
      "\n",
      "Input text: Cervix is equal in size to uterus in puberty. Ans. is b, i.e. Cervix is equal in size to uterus at puberty.At puberty the cervix : corpus ratio is 1:2.That means uterus is twice as large as cervix not equal.Rest all options are correct and don't need any explanation.\n",
      "Entities:\n",
      "[{'end': 6, 'start': 0, 'tag': 'm', 'text': 'cervix'},\n",
      " {'end': 68, 'start': 62, 'tag': 'm', 'text': 'cervix'}]\n",
      "----------------------------------------------------------------------------------------------------\n",
      "Id: 99869 \n",
      "\n",
      "Input text: Pilocarpine. .\n",
      "Entities:\n",
      "[{'end': 11, 'start': 0, 'tag': 'm', 'text': 'pilocarpine'}]\n",
      "----------------------------------------------------------------------------------------------------\n",
      "Id: 6175 \n",
      "\n",
      "Input text: Endometriosis. Ans. D. EndometriosisOCP are contraindicated in pregnancy, hepatic renal failure, thromboembolic disorder, breast CA, hypertension, diabetes. But in case of endometriosis, it regulates the irregular bleeding which is non-contraceptive use of OCP.\n",
      "Entities:\n",
      "[{'end': 222, 'start': 204, 'tag': 'r', 'text': 'irregular bleeding'},\n",
      " {'end': 260, 'start': 257, 'tag': 'm', 'text': 'ocp'}]\n",
      "----------------------------------------------------------------------------------------------------\n",
      "Id: 63904 \n",
      "\n",
      "Input text: Angiotensin conveing enzyme (ACE) inhibitor. Oligohydramnios is found with fetal exposure to ACE inhibitors. Neonatal renal failure may also be noted. Lithium is associated with Epstein anomaly (a fetal hea malformation); Dilantin is associated with a fetal hydantoin syndrome of intrauterine growth retardation, microcephaly, and facial defects.\n",
      "Entities:\n",
      "[{'end': 27, 'start': 0, 'tag': 'm', 'text': 'angiotensin conveing enzyme'},\n",
      " {'end': 32, 'start': 29, 'tag': 'm', 'text': 'ace'},\n",
      " {'end': 107, 'start': 93, 'tag': 'm', 'text': 'ace inhibitors'},\n",
      " {'end': 158, 'start': 151, 'tag': 'm', 'text': 'lithium'},\n",
      " {'end': 230, 'start': 222, 'tag': 'm', 'text': 'dilantin'}]\n",
      "----------------------------------------------------------------------------------------------------\n"
     ]
    },
    {
     "name": "stderr",
     "output_type": "stream",
     "text": [
      "\n"
     ]
    }
   ],
   "source": [
    "model_name = \"samrawal/bert-large-uncased_med-ner\"\n",
    "\n",
    "test_samrawal = test_model(model_name, data, col=\"A\", aggregation_strategy=\"first\")\n",
    "\n",
    "print_some_results(test_samrawal, col=\"A\")"
   ]
  }
 ],
 "metadata": {
  "kernelspec": {
   "display_name": "biomapas",
   "language": "python",
   "name": "biomapas"
  },
  "language_info": {
   "codemirror_mode": {
    "name": "ipython",
    "version": 3
   },
   "file_extension": ".py",
   "mimetype": "text/x-python",
   "name": "python",
   "nbconvert_exporter": "python",
   "pygments_lexer": "ipython3",
   "version": "3.8.10"
  }
 },
 "nbformat": 4,
 "nbformat_minor": 2
}
